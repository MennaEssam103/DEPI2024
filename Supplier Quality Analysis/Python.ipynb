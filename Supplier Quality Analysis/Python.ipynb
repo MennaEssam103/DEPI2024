{
 "cells": [
  {
   "cell_type": "markdown",
   "metadata": {},
   "source": [
    "# Project Overview\n",
    "#### This project analyzes supplier quality by examining defect quantities and downtime across various materials. Using Python, we Cleaned our data by removing duplicates and dealing with nulls to enhance overall analysis performance and efficiency.\n"
   ]
  },
  {
   "cell_type": "markdown",
   "metadata": {},
   "source": [
    "# Project data\n",
    "#### Vendor - Contains information about different vendors.\n",
    "#### Plant - Details the plants associated with the vendors.\n",
    "#### Defected Items - Information about items that were defected.\n",
    "#### Material Type - Different types of materials involved.\n",
    "#### Defects - A record of the defects.\n",
    "#### Defect Type - Categories or types of defects.\n",
    "#### Category - Likely involves categorization of defects or vendors."
   ]
  },
  {
   "cell_type": "markdown",
   "metadata": {},
   "source": [
    "# Project Background\n",
    "### This project focuses on building a data analytics dashboard to streamline defect analysis and optimize production quality. The dashboard will integrate the following key data elements:\n",
    "\n",
    "##### Vendors & Plants: Tracks vendors through unique Vendor IDs and plant locations with Plant IDs, enabling geographic performance comparisons and vendor benchmarking.\n",
    "\n",
    "##### Defected Items: Logs defects by Date, Sub Category ID, Plant ID, Vendor ID, Material ID, Defect Type ID, and Defect ID, along with defect quantity and downtime, providing insights into production disruptions.\n",
    "\n",
    "##### Material Types: Defines materials by Material Type ID, allowing for trend analysis and the identification of materials that contribute to higher defect rates.\n",
    "\n",
    "##### Defect Details: Classifies defects using Defect IDs and Defect Types to categorize issues as \"rejected,\" \"impact,\" or \"no impact\" for prioritization and corrective actions.\n",
    "\n",
    "##### Category System: Groups defects into Categories and Sub Categories to uncover broader patterns and drive continuous quality improvement."
   ]
  },
  {
   "cell_type": "markdown",
   "metadata": {},
   "source": [
    "### We Start by importing pandas libraray and reading data"
   ]
  },
  {
   "cell_type": "code",
   "execution_count": null,
   "metadata": {},
   "outputs": [],
   "source": [
    "import pandas as pd\n",
    "df = pd.read_csv('Defected Items.csv')"
   ]
  },
  {
   "cell_type": "markdown",
   "metadata": {},
   "source": [
    "### Show original data"
   ]
  },
  {
   "cell_type": "code",
   "execution_count": null,
   "metadata": {},
   "outputs": [],
   "source": [
    "print(\"Show original data:\")\n",
    "print(df)"
   ]
  },
  {
   "cell_type": "markdown",
   "metadata": {},
   "source": [
    "### Show ‘Downtime min’ Data :"
   ]
  },
  {
   "cell_type": "code",
   "execution_count": null,
   "metadata": {},
   "outputs": [],
   "source": [
    "# Show original data 'Downtime min'\n",
    "empty_downtime_rows = df[df['Downtime min'].isnull()]\n",
    "print(\"\\n Show original data 'Downtime min':\")\n",
    "print(empty_downtime_rows) "
   ]
  },
  {
   "cell_type": "markdown",
   "metadata": {},
   "source": [
    "### Deleting empty values in 'Downtime min' and show data after cleaning"
   ]
  },
  {
   "cell_type": "code",
   "execution_count": null,
   "metadata": {},
   "outputs": [],
   "source": [
    "df_cleaned = df.dropna(subset=['Downtime min'])"
   ]
  },
  {
   "cell_type": "markdown",
   "metadata": {},
   "source": [
    "### Show data after deletion"
   ]
  },
  {
   "cell_type": "code",
   "execution_count": null,
   "metadata": {},
   "outputs": [],
   "source": [
    "print(\"\\n Show data after deletion 'Downtime min':\")\n",
    "print(df_cleaned)"
   ]
  },
  {
   "cell_type": "markdown",
   "metadata": {},
   "source": [
    "### Save data after modification :"
   ]
  },
  {
   "cell_type": "code",
   "execution_count": null,
   "metadata": {},
   "outputs": [],
   "source": [
    "df_cleaned.to_csv('Defected_Items_Cleaned.csv', index=False)"
   ]
  },
  {
   "cell_type": "markdown",
   "metadata": {},
   "source": [
    "### Converting Date Column to Date Format and Saving Updated Data to CSV :"
   ]
  },
  {
   "cell_type": "code",
   "execution_count": null,
   "metadata": {},
   "outputs": [],
   "source": [
    "df['Date'] = pd.to_datetime(df['Date']).dt.date\n",
    "# Display data after modification\n",
    "print(\"\\n Display data after modification:\")\n",
    "print(df)\n",
    "# Save data after modification\n",
    "df.to_csv('Defected_Items_Updated.csv', index=False)"
   ]
  },
  {
   "cell_type": "markdown",
   "metadata": {},
   "source": [
    "### Removing Duplicates and Displaying Updated Data :"
   ]
  },
  {
   "cell_type": "markdown",
   "metadata": {},
   "source": [
    "# Delete Dublicated\n",
    "df_unique = df.drop_duplicates()\n",
    "# Display data after modification\n",
    "print(\"\\n # Display data after modification\")\n",
    "print(df_unique)"
   ]
  },
  {
   "cell_type": "markdown",
   "metadata": {},
   "source": [
    "### Save data after modification and download it :"
   ]
  },
  {
   "cell_type": "markdown",
   "metadata": {},
   "source": [
    "# Save data after modification\n",
    "df_unique.to_csv('Defected_Items_Unique.csv', index=False)\n",
    "# dowload data\n",
    "files.download('Defected_Items_Unique.csv')"
   ]
  }
 ],
 "metadata": {
  "language_info": {
   "name": "python"
  }
 },
 "nbformat": 4,
 "nbformat_minor": 2
}
